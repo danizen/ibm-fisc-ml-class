{
    "nbformat_minor": 1, 
    "cells": [
        {
            "source": "<table style=\"border: none\" align=\"left\">\n   <tr style=\"border: none\">\n      <th style=\"text-align: left;border: none\"><font face=\"verdana\" size=\"5\" color=\"black\"><b>Train and deploy a heart disease prediction model using XGBoost and IBM Watson Machine Learning APIs</b></th>\n      <th style=\"border: none\"><img src=\"https://github.com/pmservice/customer-satisfaction-prediction/blob/master/app/static/images/ml_icon_gray.png?raw=true\" alt=\"Watson Machine Learning icon\" height=\"40\" width=\"40\"></th>\n   </tr>\n   <tr style=\"border: none\">\n       <th style=\"border: none\"><img src=\"https://github.com/pmservice/drug-selection/raw/master/images/heart_banner.png\" width=\"600\" alt=\"Icon\"> </th>\n   </tr>\n</table>", 
            "cell_type": "markdown", 
            "metadata": {}
        }, 
        {
            "source": "This notebook demonstrates how to train a model using the XGBoost library to classify whether a person has heart disease or not. In addition to training, the notebook also explains how to persist a trained model to IBM Watson Machine Learning repository, and deploy the model as a REST service.  \n\nIn order to train and test the heart disease prediction model, you will be using an open source data set published in the University of California, Irvine (UCI) Machine Learning Repository. \n\nThis notebook uses Python 3.6 runtime, XGBoost 0.82 and Scikit-Learn 0.20. \n\n", 
            "cell_type": "markdown", 
            "metadata": {}
        }, 
        {
            "source": "## Notebook Tips\n\nFor those unfamiliar with using a notebook, please read this section. Otherwise, proceed to the next section.<br><br> \nA notebook consists of a series of cells. Cells consist of code or documentation (called markdown).<br>\nCells that are prefixed with an **In [ ]** consist of code. One's prefixed with an **Out** indicate displayed output which appear after executing the code. <br>\nTo execute a code cell you need to move the cursor into the cell, and then click on the Run icon in the toolbar at the top, <br>\nor press the Shift-Enter keys. Once the cell has been executed a number will appear (e.g. **In [1]**)", 
            "cell_type": "markdown", 
            "metadata": {}
        }, 
        {
            "source": "## Learning goals\n\nThe learning goals of this notebook are:\n\n-  Load a CSV file into Pandas DataFrame.\n-  Prepare data for training and evaluation.\n-  Create, train and evaluate a XGBoost model.\n-  Visualize a decision trees used by the model.\n-  Visualize the importance of features that were used to train the model.\n-  Use cross validation to select optimal model hyperparameters based on a parameter grid\n-  Persist a model in Watson Machine Learning repository using Python client library.\n-  Deploy a model for online scoring using the Watson Machine Learning's REST APIs\n\n", 
            "cell_type": "markdown", 
            "metadata": {}
        }, 
        {
            "source": "## Table of contents\nThis notebook contains the following sections:\n\n1.\t[Setup](#setup)\n2.\t[Load and explore data](#load)\n3.\t[Create XGBoost model](#create)\n4.\t[Persist model](#persistence)\n5.\t[Deploy to the Cloud](#deploy)\n6.\t[Summary and next steps](#summary)", 
            "cell_type": "markdown", 
            "metadata": {}
        }, 
        {
            "source": "<a id=\"setup\"></a>\n## 1. Setup\n\nBefore you execute the sample code in this notebook, you must download the **Heart Disease Data Set** data in the Notebook's local filesystem\n\n### Download Heart Disease Data Set  to Notebook's local filesystem\nThe Heart Disease Data Set is a freely available data set on the UCI Machine Learning Repository portal. The **Heart Disease Data Set** is hosted [here](http://archive.ics.uci.edu/ml/machine-learning-databases/heart-disease/processed.cleveland.data).\n\n", 
            "cell_type": "markdown", 
            "metadata": {}
        }, 
        {
            "source": "In order to download the data from UCI Machine Learning Repository, use the `wget` library. Use the following command to install the `wget` library: `!pip install wget` ", 
            "cell_type": "markdown", 
            "metadata": {}
        }, 
        {
            "source": "%%bash\npip install wget watson-machine-learning-client-V4", 
            "cell_type": "code", 
            "execution_count": 3, 
            "outputs": [
                {
                    "output_type": "stream", 
                    "name": "stdout", 
                    "text": "Collecting wget\n  Using cached https://files.pythonhosted.org/packages/47/6a/62e288da7bcda82b935ff0c6cfe542970f04e29c756b0e147251b2fb251f/wget-3.2.zip\nCollecting watson-machine-learning-client-V4\n  Downloading https://files.pythonhosted.org/packages/ca/2b/a6be1a2b36138835a66b007f128ffa1ab52398178c4b564534fdc1d30743/watson_machine_learning_client_V4-1.0.34-py3-none-any.whl (974kB)\nRequirement already satisfied: tqdm in /opt/conda/envs/Python36/lib/python3.6/site-packages (from watson-machine-learning-client-V4) (4.31.1)\nRequirement already satisfied: ibm-cos-sdk in /opt/conda/envs/Python36/lib/python3.6/site-packages (from watson-machine-learning-client-V4) (2.4.3)\nRequirement already satisfied: tabulate in /opt/conda/envs/Python36/lib/python3.6/site-packages (from watson-machine-learning-client-V4) (0.8.2)\nRequirement already satisfied: requests in /opt/conda/envs/Python36/lib/python3.6/site-packages (from watson-machine-learning-client-V4) (2.21.0)\nRequirement already satisfied: lomond in /opt/conda/envs/Python36/lib/python3.6/site-packages (from watson-machine-learning-client-V4) (0.3.3)\nRequirement already satisfied: certifi in /opt/conda/envs/Python36/lib/python3.6/site-packages (from watson-machine-learning-client-V4) (2019.6.16)\nRequirement already satisfied: pandas in /opt/conda/envs/Python36/lib/python3.6/site-packages (from watson-machine-learning-client-V4) (0.24.1)\nRequirement already satisfied: urllib3 in /opt/conda/envs/Python36/lib/python3.6/site-packages (from watson-machine-learning-client-V4) (1.24.1)\nRequirement already satisfied: ibm-cos-sdk-core==2.*,>=2.0.0 in /opt/conda/envs/Python36/lib/python3.6/site-packages (from ibm-cos-sdk->watson-machine-learning-client-V4) (2.4.3)\nRequirement already satisfied: ibm-cos-sdk-s3transfer==2.*,>=2.0.0 in /opt/conda/envs/Python36/lib/python3.6/site-packages (from ibm-cos-sdk->watson-machine-learning-client-V4) (2.4.3)\nRequirement already satisfied: chardet<3.1.0,>=3.0.2 in /opt/conda/envs/Python36/lib/python3.6/site-packages (from requests->watson-machine-learning-client-V4) (3.0.4)\nRequirement already satisfied: idna<2.9,>=2.5 in /opt/conda/envs/Python36/lib/python3.6/site-packages (from requests->watson-machine-learning-client-V4) (2.8)\nRequirement already satisfied: six>=1.10.0 in /opt/conda/envs/Python36/lib/python3.6/site-packages (from lomond->watson-machine-learning-client-V4) (1.12.0)\nRequirement already satisfied: numpy>=1.12.0 in /opt/conda/envs/Python36/lib/python3.6/site-packages (from pandas->watson-machine-learning-client-V4) (1.15.4)\nRequirement already satisfied: pytz>=2011k in /opt/conda/envs/Python36/lib/python3.6/site-packages (from pandas->watson-machine-learning-client-V4) (2018.9)\nRequirement already satisfied: python-dateutil>=2.5.0 in /opt/conda/envs/Python36/lib/python3.6/site-packages (from pandas->watson-machine-learning-client-V4) (2.7.5)\nRequirement already satisfied: docutils>=0.10 in /opt/conda/envs/Python36/lib/python3.6/site-packages (from ibm-cos-sdk-core==2.*,>=2.0.0->ibm-cos-sdk->watson-machine-learning-client-V4) (0.14)\nRequirement already satisfied: jmespath<1.0.0,>=0.7.1 in /opt/conda/envs/Python36/lib/python3.6/site-packages (from ibm-cos-sdk-core==2.*,>=2.0.0->ibm-cos-sdk->watson-machine-learning-client-V4) (0.9.3)\nBuilding wheels for collected packages: wget\n  Building wheel for wget (setup.py): started\n  Building wheel for wget (setup.py): finished with status 'done'\n  Stored in directory: /home/dsxuser/.cache/pip/wheels/40/15/30/7d8f7cea2902b4db79e3fea550d7d7b85ecb27ef992b618f3f\nSuccessfully built wget\nInstalling collected packages: wget, watson-machine-learning-client-V4\nSuccessfully installed watson-machine-learning-client-V4-1.0.34 wget-3.2\n"
                }
            ], 
            "metadata": {}
        }, 
        {
            "source": "We need to put our imports in the same place, unlike his standard", 
            "cell_type": "markdown", 
            "metadata": {}
        }, 
        {
            "source": "import wget\nimport pandas as pd\nfrom watson_machine_learning_client import WatsonMachineLearningAPIClient", 
            "cell_type": "code", 
            "execution_count": 10, 
            "outputs": [], 
            "metadata": {}
        }, 
        {
            "source": "Now we will instantiate the client as suggested. Want to go back and save the credentials outside of the notebook later.", 
            "cell_type": "markdown", 
            "metadata": {}
        }, 
        {
            "source": "%%writefile wmlcreds.json\n{\n  \"apikey\": \"MulHt_kp2p2UVUiHh5Sh1IZKt3JYiXXOv3kNo-5AiiV2\",\n  \"iam_apikey_description\": \"Auto-generated for key 401575c3-a0d4-4def-8956-362c806867c4\",\n  \"iam_apikey_name\": \"Service credentials-1\",\n  \"iam_role_crn\": \"crn:v1:bluemix:public:iam::::serviceRole:Writer\",\n  \"iam_serviceid_crn\": \"crn:v1:bluemix:public:iam-identity::a/d1d3e5e6d554427daaa5f231e37ad392::serviceid:ServiceId-3b0c1869-d4ad-4b85-b792-953a6d948f0d\",\n  \"instance_id\": \"f4e3dc75-4846-4365-8b0e-98f28020ff32\",\n  \"url\": \"https://us-south.ml.cloud.ibm.com\"\n}", 
            "cell_type": "code", 
            "execution_count": 43, 
            "outputs": [
                {
                    "output_type": "stream", 
                    "name": "stdout", 
                    "text": "Writing wmlcreds.json\n"
                }
            ], 
            "metadata": {}
        }, 
        {
            "source": "wml_creds = {\n  \"apikey\": \"MulHt_kp2p2UVUiHh5Sh1IZKt3JYiXXOv3kNo-5AiiV2\",\n  \"iam_apikey_description\": \"Auto-generated for key 401575c3-a0d4-4def-8956-362c806867c4\",\n  \"iam_apikey_name\": \"Service credentials-1\",\n  \"iam_role_crn\": \"crn:v1:bluemix:public:iam::::serviceRole:Writer\",\n  \"iam_serviceid_crn\": \"crn:v1:bluemix:public:iam-identity::a/d1d3e5e6d554427daaa5f231e37ad392::serviceid:ServiceId-3b0c1869-d4ad-4b85-b792-953a6d948f0d\",\n  \"instance_id\": \"f4e3dc75-4846-4365-8b0e-98f28020ff32\",\n  \"url\": \"https://us-south.ml.cloud.ibm.com\"\n}\nclient = WatsonMachineLearningAPIClient(wml_creds)", 
            "cell_type": "code", 
            "execution_count": 7, 
            "outputs": [], 
            "metadata": {}
        }, 
        {
            "source": "Now, the code in the cell below downloads the data set and saves it in the local filesystem. The name of downloaded file containing the data will be displayed in the output of this cell.", 
            "cell_type": "markdown", 
            "metadata": {}
        }, 
        {
            "source": "import wget\n\nlink_to_data = 'http://archive.ics.uci.edu/ml/machine-learning-databases/heart-disease/processed.cleveland.data'\n\n# make sure no duplicates\n!rm processed.cleveland*.data 2>/dev/null\n\nClevelandDataSet = wget.download(link_to_data)\n\nprint(ClevelandDataSet)", 
            "cell_type": "code", 
            "execution_count": 9, 
            "outputs": [
                {
                    "output_type": "stream", 
                    "name": "stdout", 
                    "text": "processed.cleveland.data\n"
                }
            ], 
            "metadata": {}
        }, 
        {
            "source": "The .csv file, **processed.cleveland.data**, that contains the heart disease data set is now availble on your local gpfs filesystem. ", 
            "cell_type": "markdown", 
            "metadata": {}
        }, 
        {
            "source": "The downloaded data set contains the following attributes pertaining to heart disease.\n\n### Data set Details:\n1. age - age in years\n2. sex - sex(1 =  male; 0 = female)\n3. cp - chest pain type (1 = typical angina; 2 = atypical angina; 3 = non-anginal pain; 4 = asymptomatic)\n4. trestbps - resting blood pressure (in mm Hg on admission to the hospital)\n5. chol - serum cholestoral in mg/dl\n6. fbs - fasting blood sugar > 120 mg/dl (1 = true; 0 = false)\n7. restecg - resting electrocardiographic results (0 = normal; 1 = having ST-T; 2 = hypertrophy)\n8. thalach - maximum heart rate achieved\n9. exang - exercise induced angina (1 = yes; 0 = no)\n10. oldpeak - ST depression induced by exercise relative to rest\n11. slope - the slope of the peak exercise ST segment (1 = upsloping; 2 = flat; 3 = downsloping)\n12. ca - number of major vessels (0-3) colored by flourosopy\n13. thal - 3 = normal; 6 = fixed defect; 7 = reversable defect\n14. num - number of major blood vessels > 50% blocked (angiographic disease status)  ", 
            "cell_type": "markdown", 
            "metadata": {}
        }, 
        {
            "source": "<a id=\"load\"></a>\n## 2. Load and explore data", 
            "cell_type": "markdown", 
            "metadata": {}
        }, 
        {
            "source": "In this section you will load the data as a Pandas data frame and perform a basic exploration.\n", 
            "cell_type": "markdown", 
            "metadata": {}
        }, 
        {
            "source": "Load the data in the .csv file, **processed.cleveland.data**, into a Pandas data frame by running the code below. Note that the dataset does not contain header information so that is provided in the col_names variable. The first 5 lines will be displayed by using the .head() method. ", 
            "cell_type": "markdown", 
            "metadata": {}
        }, 
        {
            "source": "col_names = ['age','sex','cp','restbp','chol','fbs','restecg','thalach','exang','oldpeak','slope','ca','thal','num']\n\nheart_data_df = pd.read_csv(ClevelandDataSet, sep=',', header=None, names=col_names, na_filter= True, na_values= {'ca': '?', 'thal': '?'})\nheart_data_df.head()", 
            "cell_type": "code", 
            "execution_count": 11, 
            "outputs": [
                {
                    "output_type": "execute_result", 
                    "metadata": {}, 
                    "data": {
                        "text/html": "<div>\n<style scoped>\n    .dataframe tbody tr th:only-of-type {\n        vertical-align: middle;\n    }\n\n    .dataframe tbody tr th {\n        vertical-align: top;\n    }\n\n    .dataframe thead th {\n        text-align: right;\n    }\n</style>\n<table border=\"1\" class=\"dataframe\">\n  <thead>\n    <tr style=\"text-align: right;\">\n      <th></th>\n      <th>age</th>\n      <th>sex</th>\n      <th>cp</th>\n      <th>restbp</th>\n      <th>chol</th>\n      <th>fbs</th>\n      <th>restecg</th>\n      <th>thalach</th>\n      <th>exang</th>\n      <th>oldpeak</th>\n      <th>slope</th>\n      <th>ca</th>\n      <th>thal</th>\n      <th>num</th>\n    </tr>\n  </thead>\n  <tbody>\n    <tr>\n      <th>0</th>\n      <td>63.0</td>\n      <td>1.0</td>\n      <td>1.0</td>\n      <td>145.0</td>\n      <td>233.0</td>\n      <td>1.0</td>\n      <td>2.0</td>\n      <td>150.0</td>\n      <td>0.0</td>\n      <td>2.3</td>\n      <td>3.0</td>\n      <td>0.0</td>\n      <td>6.0</td>\n      <td>0</td>\n    </tr>\n    <tr>\n      <th>1</th>\n      <td>67.0</td>\n      <td>1.0</td>\n      <td>4.0</td>\n      <td>160.0</td>\n      <td>286.0</td>\n      <td>0.0</td>\n      <td>2.0</td>\n      <td>108.0</td>\n      <td>1.0</td>\n      <td>1.5</td>\n      <td>2.0</td>\n      <td>3.0</td>\n      <td>3.0</td>\n      <td>2</td>\n    </tr>\n    <tr>\n      <th>2</th>\n      <td>67.0</td>\n      <td>1.0</td>\n      <td>4.0</td>\n      <td>120.0</td>\n      <td>229.0</td>\n      <td>0.0</td>\n      <td>2.0</td>\n      <td>129.0</td>\n      <td>1.0</td>\n      <td>2.6</td>\n      <td>2.0</td>\n      <td>2.0</td>\n      <td>7.0</td>\n      <td>1</td>\n    </tr>\n    <tr>\n      <th>3</th>\n      <td>37.0</td>\n      <td>1.0</td>\n      <td>3.0</td>\n      <td>130.0</td>\n      <td>250.0</td>\n      <td>0.0</td>\n      <td>0.0</td>\n      <td>187.0</td>\n      <td>0.0</td>\n      <td>3.5</td>\n      <td>3.0</td>\n      <td>0.0</td>\n      <td>3.0</td>\n      <td>0</td>\n    </tr>\n    <tr>\n      <th>4</th>\n      <td>41.0</td>\n      <td>0.0</td>\n      <td>2.0</td>\n      <td>130.0</td>\n      <td>204.0</td>\n      <td>0.0</td>\n      <td>2.0</td>\n      <td>172.0</td>\n      <td>0.0</td>\n      <td>1.4</td>\n      <td>1.0</td>\n      <td>0.0</td>\n      <td>3.0</td>\n      <td>0</td>\n    </tr>\n  </tbody>\n</table>\n</div>", 
                        "text/plain": "    age  sex   cp  restbp   chol  fbs  ...  exang  oldpeak  slope   ca  thal  num\n0  63.0  1.0  1.0   145.0  233.0  1.0  ...    0.0      2.3    3.0  0.0   6.0    0\n1  67.0  1.0  4.0   160.0  286.0  0.0  ...    1.0      1.5    2.0  3.0   3.0    2\n2  67.0  1.0  4.0   120.0  229.0  0.0  ...    1.0      2.6    2.0  2.0   7.0    1\n3  37.0  1.0  3.0   130.0  250.0  0.0  ...    0.0      3.5    3.0  0.0   3.0    0\n4  41.0  0.0  2.0   130.0  204.0  0.0  ...    0.0      1.4    1.0  0.0   3.0    0\n\n[5 rows x 14 columns]"
                    }, 
                    "execution_count": 11
                }
            ], 
            "metadata": {}
        }, 
        {
            "source": "Let us see how many attributes and samples we have in this data set by using the .shape attribute. ", 
            "cell_type": "markdown", 
            "metadata": {}
        }, 
        {
            "source": "(samples, attributes) = heart_data_df.shape\nprint(\"No. of Sample data =\", samples )\nprint(\"No. of Attributes  =\", attributes)", 
            "cell_type": "code", 
            "execution_count": 12, 
            "outputs": [
                {
                    "output_type": "stream", 
                    "name": "stdout", 
                    "text": "No. of Sample data = 303\nNo. of Attributes  = 14\n"
                }
            ], 
            "metadata": {}
        }, 
        {
            "source": "We have 303 rows of sample data with 14 columns of data per sample. ", 
            "cell_type": "markdown", 
            "metadata": {}
        }, 
        {
            "source": "We will now create a derived attribute that will serve as our target. The goal of the model is to predict whether a patient has a heart problem. The data set as currently constructed does not directly have this information. However, this information can be derived from the `num` attribute. The `num` column and its values pertain to the number of major vessels with more than 50% narrowing (values- 0,1,2,3 or 4) for the corresponding sample data. \n\nTherefore, the target column `diagnosed` can derived in the following way: \n- 'diagnosed' is '0' when 'num' = 0 , indicating normal heart functioning \n- 'diagnosed' is '1' when 'num' > 0 , indicating a heart problem.\n", 
            "cell_type": "markdown", 
            "metadata": {}
        }, 
        {
            "source": "heart_data_df['diagnosed'] = heart_data_df['num'].map(lambda d: 1 if d > 0 else 0)", 
            "cell_type": "code", 
            "execution_count": 14, 
            "outputs": [], 
            "metadata": {}
        }, 
        {
            "source": "Use pandas describe method to get dataset statistics", 
            "cell_type": "markdown", 
            "metadata": {}
        }, 
        {
            "source": "heart_data_df.describe()", 
            "cell_type": "code", 
            "execution_count": 15, 
            "outputs": [
                {
                    "output_type": "execute_result", 
                    "metadata": {}, 
                    "data": {
                        "text/html": "<div>\n<style scoped>\n    .dataframe tbody tr th:only-of-type {\n        vertical-align: middle;\n    }\n\n    .dataframe tbody tr th {\n        vertical-align: top;\n    }\n\n    .dataframe thead th {\n        text-align: right;\n    }\n</style>\n<table border=\"1\" class=\"dataframe\">\n  <thead>\n    <tr style=\"text-align: right;\">\n      <th></th>\n      <th>age</th>\n      <th>sex</th>\n      <th>cp</th>\n      <th>restbp</th>\n      <th>chol</th>\n      <th>fbs</th>\n      <th>restecg</th>\n      <th>thalach</th>\n      <th>exang</th>\n      <th>oldpeak</th>\n      <th>slope</th>\n      <th>ca</th>\n      <th>thal</th>\n      <th>num</th>\n      <th>diagnosed</th>\n    </tr>\n  </thead>\n  <tbody>\n    <tr>\n      <th>count</th>\n      <td>303.000000</td>\n      <td>303.000000</td>\n      <td>303.000000</td>\n      <td>303.000000</td>\n      <td>303.000000</td>\n      <td>303.000000</td>\n      <td>303.000000</td>\n      <td>303.000000</td>\n      <td>303.000000</td>\n      <td>303.000000</td>\n      <td>303.000000</td>\n      <td>299.000000</td>\n      <td>301.000000</td>\n      <td>303.000000</td>\n      <td>303.000000</td>\n    </tr>\n    <tr>\n      <th>mean</th>\n      <td>54.438944</td>\n      <td>0.679868</td>\n      <td>3.158416</td>\n      <td>131.689769</td>\n      <td>246.693069</td>\n      <td>0.148515</td>\n      <td>0.990099</td>\n      <td>149.607261</td>\n      <td>0.326733</td>\n      <td>1.039604</td>\n      <td>1.600660</td>\n      <td>0.672241</td>\n      <td>4.734219</td>\n      <td>0.937294</td>\n      <td>0.458746</td>\n    </tr>\n    <tr>\n      <th>std</th>\n      <td>9.038662</td>\n      <td>0.467299</td>\n      <td>0.960126</td>\n      <td>17.599748</td>\n      <td>51.776918</td>\n      <td>0.356198</td>\n      <td>0.994971</td>\n      <td>22.875003</td>\n      <td>0.469794</td>\n      <td>1.161075</td>\n      <td>0.616226</td>\n      <td>0.937438</td>\n      <td>1.939706</td>\n      <td>1.228536</td>\n      <td>0.499120</td>\n    </tr>\n    <tr>\n      <th>min</th>\n      <td>29.000000</td>\n      <td>0.000000</td>\n      <td>1.000000</td>\n      <td>94.000000</td>\n      <td>126.000000</td>\n      <td>0.000000</td>\n      <td>0.000000</td>\n      <td>71.000000</td>\n      <td>0.000000</td>\n      <td>0.000000</td>\n      <td>1.000000</td>\n      <td>0.000000</td>\n      <td>3.000000</td>\n      <td>0.000000</td>\n      <td>0.000000</td>\n    </tr>\n    <tr>\n      <th>25%</th>\n      <td>48.000000</td>\n      <td>0.000000</td>\n      <td>3.000000</td>\n      <td>120.000000</td>\n      <td>211.000000</td>\n      <td>0.000000</td>\n      <td>0.000000</td>\n      <td>133.500000</td>\n      <td>0.000000</td>\n      <td>0.000000</td>\n      <td>1.000000</td>\n      <td>0.000000</td>\n      <td>3.000000</td>\n      <td>0.000000</td>\n      <td>0.000000</td>\n    </tr>\n    <tr>\n      <th>50%</th>\n      <td>56.000000</td>\n      <td>1.000000</td>\n      <td>3.000000</td>\n      <td>130.000000</td>\n      <td>241.000000</td>\n      <td>0.000000</td>\n      <td>1.000000</td>\n      <td>153.000000</td>\n      <td>0.000000</td>\n      <td>0.800000</td>\n      <td>2.000000</td>\n      <td>0.000000</td>\n      <td>3.000000</td>\n      <td>0.000000</td>\n      <td>0.000000</td>\n    </tr>\n    <tr>\n      <th>75%</th>\n      <td>61.000000</td>\n      <td>1.000000</td>\n      <td>4.000000</td>\n      <td>140.000000</td>\n      <td>275.000000</td>\n      <td>0.000000</td>\n      <td>2.000000</td>\n      <td>166.000000</td>\n      <td>1.000000</td>\n      <td>1.600000</td>\n      <td>2.000000</td>\n      <td>1.000000</td>\n      <td>7.000000</td>\n      <td>2.000000</td>\n      <td>1.000000</td>\n    </tr>\n    <tr>\n      <th>max</th>\n      <td>77.000000</td>\n      <td>1.000000</td>\n      <td>4.000000</td>\n      <td>200.000000</td>\n      <td>564.000000</td>\n      <td>1.000000</td>\n      <td>2.000000</td>\n      <td>202.000000</td>\n      <td>1.000000</td>\n      <td>6.200000</td>\n      <td>3.000000</td>\n      <td>3.000000</td>\n      <td>7.000000</td>\n      <td>4.000000</td>\n      <td>1.000000</td>\n    </tr>\n  </tbody>\n</table>\n</div>", 
                        "text/plain": "              age         sex          cp  ...        thal         num   diagnosed\ncount  303.000000  303.000000  303.000000  ...  301.000000  303.000000  303.000000\nmean    54.438944    0.679868    3.158416  ...    4.734219    0.937294    0.458746\nstd      9.038662    0.467299    0.960126  ...    1.939706    1.228536    0.499120\nmin     29.000000    0.000000    1.000000  ...    3.000000    0.000000    0.000000\n25%     48.000000    0.000000    3.000000  ...    3.000000    0.000000    0.000000\n50%     56.000000    1.000000    3.000000  ...    3.000000    0.000000    0.000000\n75%     61.000000    1.000000    4.000000  ...    7.000000    2.000000    1.000000\nmax     77.000000    1.000000    4.000000  ...    7.000000    4.000000    1.000000\n\n[8 rows x 15 columns]"
                    }, 
                    "execution_count": 15
                }
            ], 
            "metadata": {}
        }, 
        {
            "source": "We can see from the describe statistics (count row) that the \"ca\" field, and the \"thai\" field have missing values. This will be handled below. Now we will use IBM's pixiedust library to visualize the data. IBM has open sourced pixiedust. Pixiedust front-ends a number of visualization libraries and makes it easier to create visualizations with an interactive interface. Instead of coding, you can select different charts using the chart icon (second icon below) and then click on Options to select the variables to visualize. Please experiment with pixiedust to get a better understanding of the data characteristics and relationships. ", 
            "cell_type": "markdown", 
            "metadata": {}
        }, 
        {
            "source": "import pixiedust\ndisplay(heart_data_df)", 
            "cell_type": "code", 
            "execution_count": 42, 
            "outputs": [
                {
                    "output_type": "display_data", 
                    "data": {
                        "text/html": "<style type=\"text/css\">.pd_warning{display:none;}</style><div class=\"pd_warning\"><em>Hey, there's something awesome here! To see it, open this notebook outside GitHub, in a viewer like Jupyter</em></div>\n        <div class=\"pd_save is-viewer-good\" style=\"padding-right:10px;text-align: center;line-height:initial !important;font-size: xx-large;font-weight: 500;color: coral;\">\n            \n        </div>\n    \n        <div id=\"chartFigure68ab99ab\" class=\"pd_save\" style=\"overflow-x:auto\">\n            \n                    \n                            <center><img style=\"max-width:initial !important\" src=\"data:image/png;base64,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\" class=\"pd_save\"></center>\n                        \n                    \n                \n        </div>\n    ", 
                        "text/plain": "<IPython.core.display.HTML object>"
                    }, 
                    "metadata": {}
                }
            ], 
            "metadata": {
                "pixiedust": {
                    "displayParams": {
                        "clusterby": "diagnosed", 
                        "rowCount": "300", 
                        "handlerId": "barChart", 
                        "rendererId": "matplotlib", 
                        "charttype": "stacked", 
                        "keyFields": "ca"
                    }
                }
            }
        }, 
        {
            "source": "__DD:__ We skipped the step here where we play with pixiedust to see what this means.", 
            "cell_type": "markdown", 
            "metadata": {}
        }, 
        {
            "source": "<a id=\"create\"></a>\n## 3. Create an XGBoost model", 
            "cell_type": "markdown", 
            "metadata": {}
        }, 
        {
            "source": "In recent years, ensemble learning models took the lead and became popular among machine learning practitioners.\n\nEnsemble learning model employs multiple machine learning algorithms to overcome the potential weaknesses of a single model. For example, if you are going to pick a destination for your next vacation, you probably ask your family and friends, read reviews and blog posts. Based on all the information you have gathered, you make your final decision.\n\nThis phenomenon is referred as the Wisdom of Crowds (WOC) in social sciences and it states that averaging the answers (prediction or probability) of a group will often result better than the answer of one of its members. The idea is that the collective knowledge of diverse and independent individuals will exceed the knowledge of any one of those individuals, helping to eliminate the noise.\n\nXGBoost is an open source library for ensemble based algorithms. It can be used for classification, regression and ranking type of problems. XGBoost supports multiple languages, such as C++, Python, R, and Java. \n\nThe Python library of XGBoost supports the following API interfaces to train and predict a model, also referred to as a `Booster`: \n- XGBoost's native APIs pertaining to the `xgboost` package, such as `xgboost.train()` or `xgboost.Booster`\n- Scikit-Learn based Wrapper APIs: `xgboost.sklearn.XGBClassifier` and `xgboost.sklearn.XGBRegressor`\n\nIn this section you will learn how to train and test an XGBoost model using the scikit-learn based Wrapper APIs.  ", 
            "cell_type": "markdown", 
            "metadata": {}
        }, 
        {
            "source": "First, you must import the required libraries.", 
            "cell_type": "markdown", 
            "metadata": {}
        }, 
        {
            "source": "import xgboost\nfrom xgboost.sklearn import XGBClassifier\nfrom sklearn.pipeline import Pipeline\nfrom sklearn.preprocessing import StandardScaler\n\nfrom sklearn.model_selection import GridSearchCV\nfrom sklearn.metrics import accuracy_score\nfrom sklearn.model_selection import train_test_split \n\nfrom xgboost import plot_importance\nfrom matplotlib import pyplot\nimport pprint\n%matplotlib inline", 
            "cell_type": "code", 
            "execution_count": 18, 
            "outputs": [], 
            "metadata": {}
        }, 
        {
            "source": "### 3.1: Prepare data", 
            "cell_type": "markdown", 
            "metadata": {}
        }, 
        {
            "source": "In this section, clean and transform the data in the Pandas data frame into the data that can be given as input for training the model. \n", 
            "cell_type": "markdown", 
            "metadata": {}
        }, 
        {
            "source": "#### 3.1.1: Cleanse the data\nFirst, check if there are any null data in our dataset and remove the corresponding rows.", 
            "cell_type": "markdown", 
            "metadata": {}
        }, 
        {
            "source": "print(\"List of features with their corresponding count of null values : \")\nprint(\"---------------------------------------------------------------- \")\nprint(heart_data_df.isnull().sum())", 
            "cell_type": "code", 
            "execution_count": 19, 
            "outputs": [
                {
                    "output_type": "stream", 
                    "name": "stdout", 
                    "text": "List of features with their corresponding count of null values : \n---------------------------------------------------------------- \nage          0\nsex          0\ncp           0\nrestbp       0\nchol         0\nfbs          0\nrestecg      0\nthalach      0\nexang        0\noldpeak      0\nslope        0\nca           4\nthal         2\nnum          0\ndiagnosed    0\ndtype: int64\n"
                }
            ], 
            "metadata": {}
        }, 
        {
            "source": "From the output of the above cell, there are 6 occurrences where there are null values. The rows containing these null values can be removed so that the data set does not have any incomplete data. The cell below contains the command to remove the rows that contain these null values.", 
            "cell_type": "markdown", 
            "metadata": {}
        }, 
        {
            "source": "heart_data_df = heart_data_df.dropna(how='any',axis=0)", 
            "cell_type": "code", 
            "execution_count": 20, 
            "outputs": [], 
            "metadata": {}
        }, 
        {
            "source": "#### 3.1.2: Prepare the target data and feature columns", 
            "cell_type": "markdown", 
            "metadata": {}
        }, 
        {
            "source": "The next step is to select the attributes in the current data set that can be used for training the model. Here, all the attributes other than `num` attribute are chosen as the features.", 
            "cell_type": "markdown", 
            "metadata": {}
        }, 
        {
            "source": "feature_cols = ['age','sex','cp','restbp','chol','fbs','restecg','thalach','exang','oldpeak','slope','ca','thal']\nfeatures_df = heart_data_df[feature_cols]", 
            "cell_type": "code", 
            "execution_count": 21, 
            "outputs": [], 
            "metadata": {}
        }, 
        {
            "source": "#### 3.1.3: Split the data set for training and testing", 
            "cell_type": "markdown", 
            "metadata": {}
        }, 
        {
            "source": "As the target and feature columns has been defined, you can now split the data set into two sets that will be used for training the model and for testing the trained model.\n\n__DD__: The train_test_split callable was loaded above, from sklearn. Read-up on this function later.", 
            "cell_type": "markdown", 
            "metadata": {}
        }, 
        {
            "source": "heart_train, heart_test, target_train, target_test = train_test_split(features_df, heart_data_df.loc[:,'diagnosed'], test_size=0.33, random_state=0)\n", 
            "cell_type": "code", 
            "execution_count": 22, 
            "outputs": [], 
            "metadata": {}
        }, 
        {
            "source": "### 3.2 Create the XGBoost Model", 
            "cell_type": "markdown", 
            "metadata": {}
        }, 
        {
            "source": "In the cell below, we create our pipeline which contains the XGBoost classifier:", 
            "cell_type": "markdown", 
            "metadata": {}
        }, 
        {
            "source": "pipeline = Pipeline([('scaler', StandardScaler()), ('classifier', XGBClassifier())])", 
            "cell_type": "code", 
            "execution_count": 23, 
            "outputs": [], 
            "metadata": {}
        }, 
        {
            "source": "We can see the default parameters of the stages in our pipeline:\n\n__DD:__ What does the standard scaler do?   What does the XGBClassifier do and how do you choose the algorthms used?", 
            "cell_type": "markdown", 
            "metadata": {}
        }, 
        {
            "source": "pipeline", 
            "cell_type": "code", 
            "execution_count": 24, 
            "outputs": [
                {
                    "output_type": "execute_result", 
                    "metadata": {}, 
                    "data": {
                        "text/plain": "Pipeline(memory=None,\n     steps=[('scaler', StandardScaler(copy=True, with_mean=True, with_std=True)), ('classifier', XGBClassifier(base_score=0.5, booster='gbtree', colsample_bylevel=1,\n       colsample_bytree=1, gamma=0, learning_rate=0.1, max_delta_step=0,\n       max_depth=3, min_child_weight=1, missing=None, n_estimators=100,\n       n_jobs=1, nthread=None, objective='binary:logistic', random_state=0,\n       reg_alpha=0, reg_lambda=1, scale_pos_weight=1, seed=None,\n       silent=True, subsample=1))])"
                    }, 
                    "execution_count": 24
                }
            ], 
            "metadata": {}
        }, 
        {
            "source": "After we have set up our pipeline with the XGBoost classifier, we can train it by invoking the fit method.", 
            "cell_type": "markdown", 
            "metadata": {}
        }, 
        {
            "source": "pipeline.fit(heart_train,target_train)", 
            "cell_type": "code", 
            "execution_count": 25, 
            "outputs": [
                {
                    "output_type": "execute_result", 
                    "metadata": {}, 
                    "data": {
                        "text/plain": "Pipeline(memory=None,\n     steps=[('scaler', StandardScaler(copy=True, with_mean=True, with_std=True)), ('classifier', XGBClassifier(base_score=0.5, booster='gbtree', colsample_bylevel=1,\n       colsample_bytree=1, gamma=0, learning_rate=0.1, max_delta_step=0,\n       max_depth=3, min_child_weight=1, missing=None, n_estimators=100,\n       n_jobs=1, nthread=None, objective='binary:logistic', random_state=0,\n       reg_alpha=0, reg_lambda=1, scale_pos_weight=1, seed=None,\n       silent=True, subsample=1))])"
                    }, 
                    "execution_count": 25
                }
            ], 
            "metadata": {}
        }, 
        {
            "source": "We can now make predictions on test data and evaluate the model.", 
            "cell_type": "markdown", 
            "metadata": {}
        }, 
        {
            "source": "y_pred = pipeline.predict(heart_test.values)", 
            "cell_type": "code", 
            "execution_count": 26, 
            "outputs": [], 
            "metadata": {}
        }, 
        {
            "source": "accuracy = accuracy_score(target_test, y_pred)\n\nprint(\"Accuracy: %.2f%%\" % (accuracy * 100.0))", 
            "cell_type": "code", 
            "execution_count": 27, 
            "outputs": [
                {
                    "output_type": "stream", 
                    "name": "stdout", 
                    "text": "Accuracy: 78.79%\n"
                }
            ], 
            "metadata": {}
        }, 
        {
            "source": "We plot the feature importance based on fitted trees which allows us to see the features that were useful to construct boosted trees.", 
            "cell_type": "markdown", 
            "metadata": {}
        }, 
        {
            "source": "xgboost.plot_importance(pipeline.steps[1][1])", 
            "cell_type": "code", 
            "execution_count": 28, 
            "outputs": [
                {
                    "output_type": "execute_result", 
                    "metadata": {}, 
                    "data": {
                        "text/plain": "<matplotlib.axes._subplots.AxesSubplot at 0x7f3e01a8b160>"
                    }, 
                    "execution_count": 28
                }, 
                {
                    "output_type": "stream", 
                    "name": "stderr", 
                    "text": "/opt/conda/envs/Python36/lib/python3.6/site-packages/matplotlib/font_manager.py:1241: UserWarning: findfont: Font family ['serif'] not found. Falling back to DejaVu Sans.\n  (prop.get_family(), self.defaultFamily[fontext]))\n"
                }, 
                {
                    "output_type": "display_data", 
                    "data": {
                        "image/png": "[encoded data removed]", 
                        "text/plain": "<Figure size 432x288 with 1 Axes>"
                    }, 
                    "metadata": {
                        "needs_background": "light"
                    }
                }
            ], 
            "metadata": {}
        }, 
        {
            "source": "f0=age, f3=restbp, f9=oldpeak <br>\n\nWe can tune our model now to achieve better accuracy by using grid search and cross validation.\n\nXGBoost has an extensive catalog of hyperparameters which provides great flexibility to shape the algorithm\u2019s desired behavior. Let\u2019s have a look at the most important ones:\n- learning_rate (default=0.1): Boosting learning rate (xgb\u2019s \u201ceta\u201d)\n- n_estimators (default=100): Number of boosted trees to fit\n- max_depth (default=3): Maximum tree depth for base learners\n- objective (default='binary:logistic'): Specify the learning task and the corresponding learning objective or a custom objective function to be used", 
            "cell_type": "markdown", 
            "metadata": {}
        }, 
        {
            "source": "In below cell, we create our XGBoost pipeline and set up the parameter space.", 
            "cell_type": "markdown", 
            "metadata": {}
        }, 
        {
            "source": "pipeline_gs = Pipeline([('scaler', StandardScaler()), ('classifier', XGBClassifier())])\nparameters = {'classifier__learning_rate': [0.01, 0.03], 'classifier__n_estimators': [50, 200]}", 
            "cell_type": "code", 
            "execution_count": 30, 
            "outputs": [], 
            "metadata": {}
        }, 
        {
            "source": "We can search for the best parameters over the specified parameters with GridSearchCV. You can use estimator.get_params().keys() to see the available hyperparameters for search.\n\n__DD:__ Here we are tuning hyperparameters `classifier__learning_rate` and `classifier__n_estimators`:", 
            "cell_type": "markdown", 
            "metadata": {}
        }, 
        {
            "source": "clf = GridSearchCV(pipeline_gs, parameters, return_train_score=True)", 
            "cell_type": "code", 
            "execution_count": 31, 
            "outputs": [], 
            "metadata": {}
        }, 
        {
            "source": "clf.fit(heart_train.values, target_train.values)", 
            "cell_type": "code", 
            "execution_count": 32, 
            "outputs": [
                {
                    "output_type": "stream", 
                    "name": "stderr", 
                    "text": "/opt/conda/envs/Python36/lib/python3.6/site-packages/sklearn/model_selection/_split.py:2053: FutureWarning: You should specify a value for 'cv' instead of relying on the default value. The default value will change from 3 to 5 in version 0.22.\n  warnings.warn(CV_WARNING, FutureWarning)\n"
                }, 
                {
                    "output_type": "execute_result", 
                    "metadata": {}, 
                    "data": {
                        "text/plain": "GridSearchCV(cv='warn', error_score='raise-deprecating',\n       estimator=Pipeline(memory=None,\n     steps=[('scaler', StandardScaler(copy=True, with_mean=True, with_std=True)), ('classifier', XGBClassifier(base_score=0.5, booster='gbtree', colsample_bylevel=1,\n       colsample_bytree=1, gamma=0, learning_rate=0.1, max_delta_step=0,\n       max_depth=3, min_child...       reg_alpha=0, reg_lambda=1, scale_pos_weight=1, seed=None,\n       silent=True, subsample=1))]),\n       fit_params=None, iid='warn', n_jobs=None,\n       param_grid={'classifier__learning_rate': [0.01, 0.03], 'classifier__n_estimators': [50, 200]},\n       pre_dispatch='2*n_jobs', refit=True, return_train_score=True,\n       scoring=None, verbose=0)"
                    }, 
                    "execution_count": 32
                }
            ], 
            "metadata": {}
        }, 
        {
            "source": "print(\"Best score: %s\" % (clf.best_score_))\nprint(\"Best parameter set: %s\" % (clf.best_params_))", 
            "cell_type": "code", 
            "execution_count": 33, 
            "outputs": [
                {
                    "output_type": "stream", 
                    "name": "stdout", 
                    "text": "Best score: 0.7727272727272727\nBest parameter set: {'classifier__learning_rate': 0.03, 'classifier__n_estimators': 200}\n"
                }
            ], 
            "metadata": {}
        }, 
        {
            "source": "We can see the accuracy of the best parameter combination on test set.", 
            "cell_type": "markdown", 
            "metadata": {}
        }, 
        {
            "source": "y_pred = clf.predict(heart_test.values)\n\naccuracy_opt = accuracy_score(target_test, y_pred)\nprint(\"Accuracy: %.2f%%\" % (accuracy_opt * 100.0))", 
            "cell_type": "code", 
            "execution_count": 34, 
            "outputs": [
                {
                    "output_type": "stream", 
                    "name": "stdout", 
                    "text": "Accuracy: 80.81%\n"
                }
            ], 
            "metadata": {}
        }, 
        {
            "source": "print(\"Improvement: %.2f%%\" % ((accuracy_opt-accuracy)/accuracy*100))", 
            "cell_type": "code", 
            "execution_count": 35, 
            "outputs": [
                {
                    "output_type": "stream", 
                    "name": "stdout", 
                    "text": "Improvement: 2.56%\n"
                }
            ], 
            "metadata": {}
        }, 
        {
            "source": "<a id=\"persistence\"></a>\n## 4. Persist the model", 
            "cell_type": "markdown", 
            "metadata": {}
        }, 
        {
            "source": "In this section store the XGBoost model in the Watson Machine Learning repository by using Watson Machine Learning repository service Python client libraries.", 
            "cell_type": "markdown", 
            "metadata": {}
        }, 
        {
            "source": "from watson_machine_learning_client import WatsonMachineLearningAPIClient", 
            "cell_type": "code", 
            "execution_count": 36, 
            "outputs": [], 
            "metadata": {}
        }, 
        {
            "source": "### Authenticate to Watson Machine Learning service on the IBM Cloud. \n\n\n\n### Action: PASTE CREDENTIALS FROM YOUR INSTANCE OF WATSON MACHINE LEARNING INTO THE FOLLOWING CELL. \n\n", 
            "cell_type": "markdown", 
            "metadata": {}
        }, 
        {
            "source": "# Instantiate a client using credentials\nwml_credentials = {\n  \"apikey\": \"\",\n  \"instance_id\": \"\",\n  \"url\": \"https://us-south.ml.cloud.ibm.com\"\n}\n\nclient = WatsonMachineLearningAPIClient(wml_credentials)\n\n", 
            "cell_type": "code", 
            "execution_count": null, 
            "outputs": [], 
            "metadata": {}
        }, 
        {
            "source": "### 4.1: Save the model in the Machine Learning Repository\n\nIn this subsection you will learn how to save a model artifact to your Watson Machine Learning instance by using the Watson Machine Learing repository Python client package.\n\n", 
            "cell_type": "markdown", 
            "metadata": {}
        }, 
        {
            "source": "# All available runtimes\n\nclient.runtimes.list(pre_defined=True)", 
            "cell_type": "code", 
            "execution_count": 37, 
            "outputs": [
                {
                    "output_type": "stream", 
                    "name": "stdout", 
                    "text": "--------------------------  --------------------------  ------------------------  --------\nGUID                        NAME                        CREATED                   PLATFORM\nxgboost_0.82-py3.6          xgboost_0.82-py3.6          2019-08-01T07:55:19.417Z  python\nxgboost_0.80-py3.6          xgboost_0.80-py3.6          2019-08-01T07:55:15.061Z  python\nscikit-learn_0.20-py3.6     scikit-learn_0.20-py3.6     2019-08-01T07:55:04.628Z  python\nscikit-learn_0.19-py3.6     scikit-learn_0.19-py3.6     2019-08-01T07:55:00.294Z  python\ntensorflow_1.13-py3.6       tensorflow_1.13-py3.6       2019-08-01T07:54:49.668Z  python\ntensorflow_1.11-py3.6       tensorflow_1.11-py3.6       2019-08-01T07:54:46.658Z  python\ntensorflow_1.5-py3.6        tensorflow_1.5-py3.6        2019-08-01T07:54:19.401Z  python\nai-function_0.1-py3.6       ai-function_0.1-py3.6       2019-07-05T08:54:54.841Z  python\nspss-modeler_18.2           spss-modeler_18.2           2019-07-05T08:54:49.935Z  spss\nxgboost_0.82-py3            xgboost_0.82-py3            2019-05-31T11:52:29.467Z  python\nscikit-learn_0.20-py3       scikit-learn_0.20-py3       2019-05-31T11:52:25.504Z  python\npmml_4.3                    pmml_4.3                    2019-04-15T09:29:02.701Z  pmml\npmml_4.2                    pmml_4.2                    2019-04-15T09:29:00.178Z  pmml\npmml_4.1                    pmml_4.1                    2019-04-15T09:28:58.142Z  pmml\npmml_4.0                    pmml_4.0                    2019-04-15T09:28:56.118Z  pmml\npmml_3.2                    pmml_3.2                    2019-04-15T09:28:54.079Z  pmml\npmml_3.1                    pmml_3.1                    2019-04-15T09:28:52.023Z  pmml\npmml_3.0                    pmml_3.0                    2019-04-15T09:28:49.990Z  pmml\ndo_12.9                     do_12.9                     2019-04-04T10:20:03.453Z  do\npmml_4.2.1                  pmml_4.2.1                  2019-04-04T10:20:01.095Z  pmml\nai-function_0.1-py3         ai-function_0.1-py3         2019-04-04T10:19:58.723Z  python\nhybrid_0.2                  hybrid_0.2                  2019-04-04T10:19:56.395Z  hybrid\nhybrid_0.1                  hybrid_0.1                  2019-04-04T10:19:54.084Z  hybrid\nxgboost_0.80-py3            xgboost_0.80-py3            2019-04-04T10:19:51.762Z  python\nxgboost_0.6-py3             xgboost_0.6-py3             2019-04-04T10:19:49.126Z  python\nspss-modeler_18.1           spss-modeler_18.1           2019-04-04T10:19:46.776Z  spss\nspss-modeler_17.1           spss-modeler_17.1           2019-04-04T10:19:44.466Z  spss\nscikit-learn_0.19-py3       scikit-learn_0.19-py3       2019-04-04T10:19:42.124Z  python\nscikit-learn_0.17-py3       scikit-learn_0.17-py3       2019-04-04T10:19:39.834Z  python\nspark-mllib_2.3             spark-mllib_2.3             2019-04-04T10:19:37.487Z  spark\nspark-mllib_2.2             spark-mllib_2.2             2019-04-04T10:19:35.193Z  spark\nspark-mllib_2.1             spark-mllib_2.1             2019-04-04T10:19:32.869Z  spark\ntensorflow_1.13-py3         tensorflow_1.13-py3         2019-04-04T10:19:30.526Z  python\ntensorflow_1.13-py2         tensorflow_1.13-py2         2019-04-04T10:19:28.199Z  python\ntensorflow_0.11-horovod     tensorflow_0.11-horovod     2019-04-04T10:19:25.880Z  native\ntensorflow_1.11-py3         tensorflow_1.11-py3         2019-04-04T10:19:23.581Z  python\ntensorflow_1.10-py3         tensorflow_1.10-py3         2019-04-04T10:19:21.246Z  python\ntensorflow_1.10-py2         tensorflow_1.10-py2         2019-04-04T10:19:18.910Z  python\ntensorflow_1.9-py3          tensorflow_1.9-py3          2019-04-04T10:19:16.600Z  python\ntensorflow_1.9-py2          tensorflow_1.9-py2          2019-04-04T10:19:14.259Z  python\ntensorflow_1.8-py3          tensorflow_1.8-py3          2019-04-04T10:19:11.939Z  python\ntensorflow_1.8-py2          tensorflow_1.8-py2          2019-04-04T10:19:09.589Z  python\ntensorflow_1.7-py3          tensorflow_1.7-py3          2019-04-04T10:19:07.191Z  python\ntensorflow_1.7-py2          tensorflow_1.7-py2          2019-04-04T10:19:04.901Z  python\ntensorflow_1.6-py3          tensorflow_1.6-py3          2019-04-04T10:19:02.546Z  python\ntensorflow_1.6-py2          tensorflow_1.6-py2          2019-04-04T10:19:00.217Z  python\ntensorflow_1.5-py2-ddl      tensorflow_1.5-py2-ddl      2019-04-04T10:18:57.905Z  python\ntensorflow_1.5-py3-horovod  tensorflow_1.5-py3-horovod  2019-04-04T10:18:55.520Z  python\ntensorflow_1.5-py3          tensorflow_1.5-py3          2019-04-04T10:18:53.195Z  python\ntensorflow_1.5-py2          tensorflow_1.5-py2          2019-04-04T10:18:50.876Z  python\n--------------------------  --------------------------  ------------------------  --------\nNote: Only first 50 records were displayed. To display more use 'limit' parameter.\n"
                }
            ], 
            "metadata": {}
        }, 
        {
            "source": "heart_metadata = {\n    client.repository.ModelMetaNames.NAME: \"Heart Disease\",\n    client.repository.ModelMetaNames.DESCRIPTION: \"Model for Heart Disease\",\n    client.repository.ModelMetaNames.TYPE: \"scikit-learn_0.20\",\n    client.repository.ModelMetaNames.RUNTIME_UID: \"scikit-learn_0.20-py3.6\"    \n}\n\nmodel_details = client.repository.store_model(model=clf, meta_props=heart_metadata)\n\nmodel_uid = client.repository.get_model_uid(model_details)\n\nprint( model_uid )", 
            "cell_type": "code", 
            "execution_count": 38, 
            "outputs": [
                {
                    "output_type": "stream", 
                    "name": "stdout", 
                    "text": "109daee9-299b-4728-a91d-e94887ecae4e\n"
                }
            ], 
            "metadata": {}
        }, 
        {
            "source": "### 4.2 Load the Booster from the saved model", 
            "cell_type": "markdown", 
            "metadata": {}
        }, 
        {
            "source": "model=client.repository.load(model_uid)", 
            "cell_type": "code", 
            "execution_count": 39, 
            "outputs": [], 
            "metadata": {}
        }, 
        {
            "source": "y_lpredict = model.predict(heart_test)\nprint(y_lpredict)", 
            "cell_type": "code", 
            "execution_count": 40, 
            "outputs": [
                {
                    "output_type": "stream", 
                    "name": "stdout", 
                    "text": "[0 0 0 0 0 1 0 1 1 0 1 0 1 0 0 0 1 0 1 1 1 1 0 0 1 1 0 0 0 0 1 0 1 1 0 1 0\n 1 1 0 1 1 0 0 0 1 1 0 0 1 1 1 1 0 1 1 0 1 0 0 1 0 1 0 0 0 0 1 0 0 1 0 0 1\n 0 0 1 0 1 1 0 1 1 0 0 1 0 0 0 1 1 1 1 1 0 0 1 0 1]\n"
                }
            ], 
            "metadata": {}
        }, 
        {
            "source": "<a id=\"deploy\"></a>\n## 5. Deploy to the Cloud", 
            "cell_type": "markdown", 
            "metadata": {}
        }, 
        {
            "source": "meta_props = {\n    client.deployments.ConfigurationMetaNames.NAME: \"Heart Disease Deployment\",\n    client.deployments.ConfigurationMetaNames.DESCRIPTION: \"Heart Disease Deployment\",\n    client.deployments.ConfigurationMetaNames.ONLINE: {}\n}\n\ndeployment_details = client.deployments.create(model_uid, meta_props=meta_props)\n\ndeployment_uid = client.deployments.get_uid(deployment_details)\n\nprint( deployment_uid )\n", 
            "cell_type": "code", 
            "execution_count": 41, 
            "outputs": [
                {
                    "output_type": "stream", 
                    "name": "stdout", 
                    "text": "\n\n#######################################################################################\n\nSynchronous deployment creation for uid: '109daee9-299b-4728-a91d-e94887ecae4e' started\n\n#######################################################################################\n\n\ninitializing\n\n\n------------------------------------------------------------------------------------------------\nSuccessfully finished deployment creation, deployment_uid='a40779bc-4160-408a-b85a-81130dfcea17'\n------------------------------------------------------------------------------------------------\n\n\na40779bc-4160-408a-b85a-81130dfcea17\n"
                }
            ], 
            "metadata": {}
        }, 
        {
            "source": "<a id=\"summary\"></a>\n## 6. Summary and next steps     ", 
            "cell_type": "markdown", 
            "metadata": {
                "collapsed": true
            }
        }, 
        {
            "source": "You successfully completed this notebook! You learned how to use XGBoost machine learning as well as Watson Machine Learning for model creation and deployment. Check out our [Online Documentation](https://console.ng.bluemix.net/docs/services/PredictiveModeling/pm_service_api_spark.html) for more samples, tutorials, documentation, how-tos, and blog posts. ", 
            "cell_type": "markdown", 
            "metadata": {
                "collapsed": true
            }
        }, 
        {
            "source": "### Original Author\n\n**Krishnamurthy Arthanarisamy**, is a senior technical lead in IBM Watson Machine Learning team. Krishna works on developing cloud services that caters to different stages of machine learning and deep learning modeling life cycle. \n\n### Additional Authors - have modified the Notebook for use in the Proof of Technology\n**Bernie Beekman ** is an Executive I/T Architect in IBM's Federal Analytical Solution Center <br>\n**Joel Patterson ** is on the Federal Big Data Engineering team. ", 
            "cell_type": "markdown", 
            "metadata": {}
        }, 
        {
            "source": "Copyright \u00a9 2017, 2018 IBM. This notebook and its source code are released under the terms of the MIT License.", 
            "cell_type": "markdown", 
            "metadata": {}
        }
    ], 
    "nbformat": 4, 
    "metadata": {
        "kernelspec": {
            "display_name": "Python 3.6", 
            "name": "python3", 
            "language": "python"
        }, 
        "language_info": {
            "mimetype": "text/x-python", 
            "nbconvert_exporter": "python", 
            "version": "3.6.8", 
            "name": "python", 
            "pygments_lexer": "ipython3", 
            "file_extension": ".py", 
            "codemirror_mode": {
                "version": 3, 
                "name": "ipython"
            }
        }
    }
}